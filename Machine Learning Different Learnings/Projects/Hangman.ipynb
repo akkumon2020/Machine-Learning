{
 "cells": [
  {
   "cell_type": "code",
   "execution_count": 1,
   "metadata": {},
   "outputs": [
    {
     "name": "stdout",
     "output_type": "stream",
     "text": [
      "arun\n"
     ]
    },
    {
     "ename": "TypeError",
     "evalue": "'<' not supported between instances of 'int' and 'function'",
     "output_type": "error",
     "traceback": [
      "\u001b[1;31m---------------------------------------------------------------------------\u001b[0m",
      "\u001b[1;31mTypeError\u001b[0m                                 Traceback (most recent call last)",
      "\u001b[1;32m<ipython-input-1-7a23dacffdb7>\u001b[0m in \u001b[0;36m<module>\u001b[1;34m()\u001b[0m\n\u001b[0;32m     10\u001b[0m \u001b[0mp\u001b[0m\u001b[1;33m=\u001b[0m\u001b[1;36m0\u001b[0m\u001b[1;33m\u001b[0m\u001b[0m\n\u001b[0;32m     11\u001b[0m \u001b[1;33m\u001b[0m\u001b[0m\n\u001b[1;32m---> 12\u001b[1;33m \u001b[1;32mwhile\u001b[0m\u001b[1;33m(\u001b[0m\u001b[0mp\u001b[0m\u001b[1;33m<\u001b[0m\u001b[0mdisplay\u001b[0m\u001b[1;33m)\u001b[0m\u001b[1;33m:\u001b[0m \u001b[1;31m#this while is for giving some characters and removing the remaining from the string\u001b[0m\u001b[1;33m\u001b[0m\u001b[0m\n\u001b[0m\u001b[0;32m     13\u001b[0m     \u001b[0malpa\u001b[0m\u001b[1;33m=\u001b[0m\u001b[1;33m(\u001b[0m\u001b[1;34m'abcdefghijklmnopqrstuvwxyz'\u001b[0m\u001b[1;33m)\u001b[0m\u001b[1;33m\u001b[0m\u001b[0m\n\u001b[0;32m     14\u001b[0m     \u001b[0mremove\u001b[0m\u001b[1;33m=\u001b[0m\u001b[0mrandom\u001b[0m\u001b[1;33m.\u001b[0m\u001b[0mchoice\u001b[0m\u001b[1;33m(\u001b[0m\u001b[0malpa\u001b[0m\u001b[1;33m)\u001b[0m\u001b[1;33m\u001b[0m\u001b[0m\n",
      "\u001b[1;31mTypeError\u001b[0m: '<' not supported between instances of 'int' and 'function'"
     ]
    }
   ],
   "source": [
    "# Hangman game\n",
    "import random\n",
    "a=['arun','john','faster']\n",
    "b=random.choice(a)\n",
    "print (b)\n",
    "displen=round((len(b))/3) #minimum size of the word should be 3 and length/3 letters will be displayed\n",
    "length=len(b)\n",
    "\n",
    "# print (display)\n",
    "p=0\n",
    "\n",
    "while(p<display): #this while is for giving some characters and removing the remaining from the string\n",
    "    alpa=('abcdefghijklmnopqrstuvwxyz')\n",
    "    remove=random.choice(alpa)\n",
    "    print (remove)\n",
    "    p=p+1"
   ]
  },
  {
   "cell_type": "code",
   "execution_count": 1,
   "metadata": {},
   "outputs": [
    {
     "name": "stdout",
     "output_type": "stream",
     "text": [
      "*_*_*\n"
     ]
    }
   ],
   "source": [
    "a='arurn' # output _r_r_\n",
    "#while()\n",
    "remove='r'\n",
    "#b=int(str.index(a,remove))  #This only tells the position once, I have to iterate to fina all the positions\n",
    "#print(b)\n",
    "new=str.replace(a,remove,'_') #finds the character r and replaces it with _, output a_u_n\n",
    "#coun=b.count(remove)\n",
    "group=[]\n",
    "group+=remove\n",
    "\n",
    "inp=\"abcdefghijklmnopqrstuvwxyz\"\n",
    "out=\"**************************\"\n",
    "trans=str.maketrans(inp,out) # tranlates input and output according to inp and out meaning.\n",
    "print(new.translate(trans)) # applies translation to a string\n",
    "\n",
    "#print()"
   ]
  },
  {
   "cell_type": "code",
   "execution_count": 14,
   "metadata": {},
   "outputs": [
    {
     "name": "stdout",
     "output_type": "stream",
     "text": [
      "['r']\n"
     ]
    }
   ],
   "source": []
  },
  {
   "cell_type": "code",
   "execution_count": null,
   "metadata": {
    "collapsed": true
   },
   "outputs": [],
   "source": []
  }
 ],
 "metadata": {
  "kernelspec": {
   "display_name": "Python 3",
   "language": "python",
   "name": "python3"
  },
  "language_info": {
   "codemirror_mode": {
    "name": "ipython",
    "version": 3
   },
   "file_extension": ".py",
   "mimetype": "text/x-python",
   "name": "python",
   "nbconvert_exporter": "python",
   "pygments_lexer": "ipython3",
   "version": "3.6.3"
  }
 },
 "nbformat": 4,
 "nbformat_minor": 2
}
