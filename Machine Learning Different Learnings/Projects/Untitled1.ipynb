{
 "cells": [
  {
   "cell_type": "code",
   "execution_count": 4,
   "metadata": {},
   "outputs": [
    {
     "name": "stdout",
     "output_type": "stream",
     "text": [
      "please guess the number between 1 and 100\n",
      "50\n",
      "77\n",
      "number is greater\n",
      "please guess another number\n",
      "60\n",
      "77\n",
      "number is greater\n",
      "please guess another number\n",
      "77\n",
      "You have the correct number - 77\n"
     ]
    }
   ],
   "source": [
    "import random\n",
    "print(\"please guess the number between 1 and 100\")\n",
    "number=random.randint(1,100)\n",
    "guess=int(input())\n",
    "while (guess!=number):\n",
    "    print (number)\n",
    "    if guess > number:\n",
    "        print(\"number is lesser\")\n",
    "    elif guess < number:\n",
    "        print(\"number is greater\")\n",
    "    print(\"please guess another number\")\n",
    "    guess=int(input())\n",
    "    if guess==number:\n",
    "        print(\"You have the correct number - \" + str(number))"
   ]
  },
  {
   "cell_type": "code",
   "execution_count": null,
   "metadata": {
    "collapsed": true
   },
   "outputs": [],
   "source": []
  },
  {
   "cell_type": "code",
   "execution_count": null,
   "metadata": {
    "collapsed": true
   },
   "outputs": [],
   "source": []
  },
  {
   "cell_type": "code",
   "execution_count": null,
   "metadata": {
    "collapsed": true
   },
   "outputs": [],
   "source": []
  }
 ],
 "metadata": {
  "kernelspec": {
   "display_name": "Python 3",
   "language": "python",
   "name": "python3"
  },
  "language_info": {
   "codemirror_mode": {
    "name": "ipython",
    "version": 3
   },
   "file_extension": ".py",
   "mimetype": "text/x-python",
   "name": "python",
   "nbconvert_exporter": "python",
   "pygments_lexer": "ipython3",
   "version": "3.6.3"
  }
 },
 "nbformat": 4,
 "nbformat_minor": 2
}
